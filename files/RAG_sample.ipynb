{
  "nbformat": 4,
  "nbformat_minor": 0,
  "metadata": {
    "colab": {
      "provenance": []
    },
    "kernelspec": {
      "name": "python3",
      "display_name": "Python 3"
    },
    "language_info": {
      "name": "python"
    }
  },
  "cells": [
    {
      "cell_type": "code",
      "execution_count": 1,
      "metadata": {
        "colab": {
          "base_uri": "https://localhost:8080/"
        },
        "id": "FmbeDZfl_A2M",
        "outputId": "43a83a97-fba5-4acf-b0b9-ac4babe2e188"
      },
      "outputs": [
        {
          "output_type": "stream",
          "name": "stdout",
          "text": [
            "\u001b[?25l   \u001b[90m━━━━━━━━━━━━━━━━━━━━━━━━━━━━━━━━━━━━━━━━\u001b[0m \u001b[32m0.0/2.5 MB\u001b[0m \u001b[31m?\u001b[0m eta \u001b[36m-:--:--\u001b[0m\r\u001b[2K   \u001b[91m━━━━━━━━━━━━━\u001b[0m\u001b[90m╺\u001b[0m\u001b[90m━━━━━━━━━━━━━━━━━━━━━━━━━━\u001b[0m \u001b[32m0.8/2.5 MB\u001b[0m \u001b[31m26.1 MB/s\u001b[0m eta \u001b[36m0:00:01\u001b[0m\r\u001b[2K   \u001b[90m━━━━━━━━━━━━━━━━━━━━━━━━━━━━━━━━━━━━━━━━\u001b[0m \u001b[32m2.5/2.5 MB\u001b[0m \u001b[31m37.1 MB/s\u001b[0m eta \u001b[36m0:00:00\u001b[0m\n",
            "\u001b[?25h\u001b[?25l   \u001b[90m━━━━━━━━━━━━━━━━━━━━━━━━━━━━━━━━━━━━━━━━\u001b[0m \u001b[32m0.0/155.4 kB\u001b[0m \u001b[31m?\u001b[0m eta \u001b[36m-:--:--\u001b[0m\r\u001b[2K   \u001b[90m━━━━━━━━━━━━━━━━━━━━━━━━━━━━━━━━━━━━━━━━\u001b[0m \u001b[32m155.4/155.4 kB\u001b[0m \u001b[31m10.1 MB/s\u001b[0m eta \u001b[36m0:00:00\u001b[0m\n",
            "\u001b[2K   \u001b[90m━━━━━━━━━━━━━━━━━━━━━━━━━━━━━━━━━━━━━━━━\u001b[0m \u001b[32m45.8/45.8 kB\u001b[0m \u001b[31m3.9 MB/s\u001b[0m eta \u001b[36m0:00:00\u001b[0m\n",
            "\u001b[2K   \u001b[90m━━━━━━━━━━━━━━━━━━━━━━━━━━━━━━━━━━━━━━━━\u001b[0m \u001b[32m56.8/56.8 kB\u001b[0m \u001b[31m5.1 MB/s\u001b[0m eta \u001b[36m0:00:00\u001b[0m\n",
            "\u001b[2K   \u001b[90m━━━━━━━━━━━━━━━━━━━━━━━━━━━━━━━━━━━━━━━━\u001b[0m \u001b[32m64.7/64.7 kB\u001b[0m \u001b[31m5.9 MB/s\u001b[0m eta \u001b[36m0:00:00\u001b[0m\n",
            "\u001b[2K   \u001b[90m━━━━━━━━━━━━━━━━━━━━━━━━━━━━━━━━━━━━━━━━\u001b[0m \u001b[32m50.9/50.9 kB\u001b[0m \u001b[31m3.2 MB/s\u001b[0m eta \u001b[36m0:00:00\u001b[0m\n",
            "\u001b[2K   \u001b[90m━━━━━━━━━━━━━━━━━━━━━━━━━━━━━━━━━━━━━━━━\u001b[0m \u001b[32m207.6/207.6 kB\u001b[0m \u001b[31m18.0 MB/s\u001b[0m eta \u001b[36m0:00:00\u001b[0m\n",
            "\u001b[?25h\u001b[31mERROR: pip's dependency resolver does not currently take into account all the packages that are installed. This behaviour is the source of the following dependency conflicts.\n",
            "google-colab 1.0.0 requires requests==2.32.4, but you have requests 2.32.5 which is incompatible.\u001b[0m\u001b[31m\n",
            "\u001b[2K   \u001b[90m━━━━━━━━━━━━━━━━━━━━━━━━━━━━━━━━━━━━━━━━\u001b[0m \u001b[32m50.7/50.7 kB\u001b[0m \u001b[31m2.8 MB/s\u001b[0m eta \u001b[36m0:00:00\u001b[0m\n",
            "\u001b[2K   \u001b[90m━━━━━━━━━━━━━━━━━━━━━━━━━━━━━━━━━━━━━━━━\u001b[0m \u001b[32m1.4/1.4 MB\u001b[0m \u001b[31m26.7 MB/s\u001b[0m eta \u001b[36m0:00:00\u001b[0m\n",
            "\u001b[?25h\u001b[31mERROR: pip's dependency resolver does not currently take into account all the packages that are installed. This behaviour is the source of the following dependency conflicts.\n",
            "google-generativeai 0.8.5 requires google-ai-generativelanguage==0.6.15, but you have google-ai-generativelanguage 0.8.0 which is incompatible.\u001b[0m\u001b[31m\n",
            "\u001b[2K   \u001b[90m━━━━━━━━━━━━━━━━━━━━━━━━━━━━━━━━━━━━━━━━\u001b[0m \u001b[32m31.4/31.4 MB\u001b[0m \u001b[31m48.0 MB/s\u001b[0m eta \u001b[36m0:00:00\u001b[0m\n",
            "\u001b[2K   \u001b[90m━━━━━━━━━━━━━━━━━━━━━━━━━━━━━━━━━━━━━━━━\u001b[0m \u001b[32m323.5/323.5 kB\u001b[0m \u001b[31m7.7 MB/s\u001b[0m eta \u001b[36m0:00:00\u001b[0m\n",
            "\u001b[2K   \u001b[90m━━━━━━━━━━━━━━━━━━━━━━━━━━━━━━━━━━━━━━━━\u001b[0m \u001b[32m76.0/76.0 kB\u001b[0m \u001b[31m3.2 MB/s\u001b[0m eta \u001b[36m0:00:00\u001b[0m\n",
            "\u001b[?25h"
          ]
        }
      ],
      "source": [
        "%pip install --quiet --upgrade langchain-text-splitters langchain-community langgraph\n",
        "%pip install -qU \"langchain[google-genai]\"\n",
        "%pip install -qU faiss-cpu\n",
        "%pip install -qU pypdf\n",
        "%pip install -qU langchain-openai"
      ]
    },
    {
      "cell_type": "markdown",
      "source": [
        "# **IMPORT PACKAGES**"
      ],
      "metadata": {
        "id": "XDdng5jE_O3E"
      }
    },
    {
      "cell_type": "code",
      "source": [
        "from google.colab import userdata\n",
        "import os\n",
        "os.environ[\"GOOGLE_API_KEY\"] = userdata.get('GOOGLE_API_KEY')"
      ],
      "metadata": {
        "id": "sYyooEl9_HfW"
      },
      "execution_count": 2,
      "outputs": []
    },
    {
      "cell_type": "markdown",
      "source": [
        "# Chat Model"
      ],
      "metadata": {
        "id": "jrlC8eYDANyG"
      }
    },
    {
      "cell_type": "code",
      "source": [
        "from langchain.chat_models import init_chat_model\n",
        "\n",
        "llm = init_chat_model(\"gemini-2.5-flash\", model_provider=\"google_genai\")"
      ],
      "metadata": {
        "id": "0sOhCjSkARDx"
      },
      "execution_count": 3,
      "outputs": []
    },
    {
      "cell_type": "markdown",
      "source": [
        "# Embeddings Model"
      ],
      "metadata": {
        "id": "5Sv7-b9JCD5q"
      }
    },
    {
      "cell_type": "code",
      "source": [
        "from langchain_google_genai import GoogleGenerativeAIEmbeddings\n",
        "\n",
        "embeddings = GoogleGenerativeAIEmbeddings(model=\"models/gemini-embedding-001\")"
      ],
      "metadata": {
        "id": "4LUWdoSmB3D6"
      },
      "execution_count": 4,
      "outputs": []
    },
    {
      "cell_type": "markdown",
      "source": [
        "## Embeddings example"
      ],
      "metadata": {
        "id": "-JccU5mmzIeK"
      }
    },
    {
      "cell_type": "code",
      "source": [
        "from sklearn.metrics.pairwise import cosine_similarity\n",
        "import numpy as np\n",
        "\n",
        "sentence1 = \"The quick brown fox jumps over the lazy dog.\"\n",
        "sentence2 = \"A swift brown fox leaps over a lethargic canine.\"\n",
        "\n",
        "# Embed the sentences\n",
        "embedding1 = embeddings.embed_query(sentence1)\n",
        "embedding2 = embeddings.embed_query(sentence2)"
      ],
      "metadata": {
        "id": "_nX142P1yjiL"
      },
      "execution_count": 33,
      "outputs": []
    },
    {
      "cell_type": "code",
      "source": [
        "# Convert embeddings to numpy arrays for calculation\n",
        "embedding1_np = np.array(embedding1).reshape(1, -1)\n",
        "embedding2_np = np.array(embedding2).reshape(1, -1)\n",
        "\n",
        "# Calculate cosine similarity\n",
        "similarity_score = cosine_similarity(embedding1_np, embedding2_np)[0][0]\n",
        "\n",
        "print(f\"Sentence 1: {sentence1}\")\n",
        "print(f\"Sentence 2: {sentence2}\\n\")\n",
        "print(f\"Cosine similarity between the embeddings: {similarity_score}\")"
      ],
      "metadata": {
        "colab": {
          "base_uri": "https://localhost:8080/"
        },
        "id": "YbmddSYVy_hG",
        "outputId": "3450cac4-e775-479c-cbb8-83ba574a9ec7"
      },
      "execution_count": 36,
      "outputs": [
        {
          "output_type": "stream",
          "name": "stdout",
          "text": [
            "Sentence 1: The quick brown fox jumps over the lazy dog.\n",
            "Sentence 2: A swift brown fox leaps over a lethargic canine.\n",
            "\n",
            "Cosine similarity between the embeddings: 0.8499936585079755\n"
          ]
        }
      ]
    },
    {
      "cell_type": "code",
      "source": [
        "# from langchain_openai import OpenAIEmbeddings\n",
        "\n",
        "# embeddings = OpenAIEmbeddings(model=\"text-embedding-3-large\")"
      ],
      "metadata": {
        "id": "4XWA4i4S918q"
      },
      "execution_count": 5,
      "outputs": []
    },
    {
      "cell_type": "markdown",
      "source": [
        "# Vector Store/Database"
      ],
      "metadata": {
        "id": "B-rc1OqQCH5u"
      }
    },
    {
      "cell_type": "code",
      "source": [
        "import faiss\n",
        "from langchain_community.docstore.in_memory import InMemoryDocstore\n",
        "from langchain_community.vectorstores import FAISS\n",
        "\n",
        "embedding_dim = len(embeddings.embed_query(\"hello world\"))\n",
        "print(embedding_dim)\n",
        "index = faiss.IndexFlatL2(embedding_dim)\n",
        "\n",
        "vector_store = FAISS(\n",
        "    embedding_function=embeddings,\n",
        "    index=index,\n",
        "    docstore=InMemoryDocstore(),\n",
        "    index_to_docstore_id={},\n",
        ")"
      ],
      "metadata": {
        "id": "h7iTAtl7B78j",
        "colab": {
          "base_uri": "https://localhost:8080/"
        },
        "outputId": "9baeec49-5baf-4af1-e5b2-9ece3e1f3b29"
      },
      "execution_count": 6,
      "outputs": [
        {
          "output_type": "stream",
          "name": "stdout",
          "text": [
            "3072\n"
          ]
        }
      ]
    },
    {
      "cell_type": "code",
      "metadata": {
        "colab": {
          "base_uri": "https://localhost:8080/"
        },
        "id": "e86c9292",
        "outputId": "89241c98-3373-4a51-dfe3-aa4aa5b5282d"
      },
      "source": [
        "# Ensure embedding_dim is defined (from your embeddings model)\n",
        "# embedding_dim = len(embeddings.embed_query(\"hello world\"))\n",
        "\n",
        "# Initialize the HNSW index\n",
        "# M: The number of neighbors each vertex has in the graph on each layer\n",
        "# ef_construction: This parameter controls the trade-off between construction time and index quality.\n",
        "M = 16\n",
        "ef_construction = 200\n",
        "index_hnsw = faiss.IndexHNSWFlat(embedding_dim, M)\n",
        "index_hnsw.hnsw.efConstruction = ef_construction\n",
        "\n",
        "# Create the new FAISS vector store with the HNSW index\n",
        "vector_store_hnsw = FAISS(\n",
        "    embedding_function=embeddings,\n",
        "    index=index_hnsw,\n",
        "    docstore=InMemoryDocstore(),\n",
        "    index_to_docstore_id={},\n",
        ")\n",
        "\n",
        "print(\"HNSW Vector Store created successfully.\")"
      ],
      "execution_count": 7,
      "outputs": [
        {
          "output_type": "stream",
          "name": "stdout",
          "text": [
            "HNSW Vector Store created successfully.\n"
          ]
        }
      ]
    },
    {
      "cell_type": "code",
      "source": [
        "embeddings.embed_query(\"hello world\")[:5]"
      ],
      "metadata": {
        "colab": {
          "base_uri": "https://localhost:8080/"
        },
        "id": "Q8nNmHQeAoO4",
        "outputId": "0babd6c5-77cc-44ae-fb25-3f0581ea6e96"
      },
      "execution_count": 8,
      "outputs": [
        {
          "output_type": "execute_result",
          "data": {
            "text/plain": [
              "[-0.030033651739358902,\n",
              " 0.004021478816866875,\n",
              " 0.01552528329193592,\n",
              " -0.08638038486242294,\n",
              " -0.0035104958806186914]"
            ]
          },
          "metadata": {},
          "execution_count": 8
        }
      ]
    },
    {
      "cell_type": "markdown",
      "source": [
        "# Indexing"
      ],
      "metadata": {
        "id": "fSGm8pzmC0LM"
      }
    },
    {
      "cell_type": "markdown",
      "source": [
        "## Loading documents"
      ],
      "metadata": {
        "id": "3HEdrt3rK6Qh"
      }
    },
    {
      "cell_type": "code",
      "source": [
        "from langchain_community.document_loaders import PyPDFLoader\n",
        "from langchain_community.document_loaders import DirectoryLoader\n",
        "\n",
        "# Define a list of PDF file paths\n",
        "pdf_paths = [\n",
        "    \"/content/Wells Fargo Active Cash Credit Card Credit Terms and Conditions.pdf\",\n",
        "    \"/content/Bilt World Elite Mastercard Credit Card Terms and Conditions.pdf\"\n",
        "]\n",
        "\n",
        "all_pages = []\n",
        "for pdf_path in pdf_paths:\n",
        "    loader = PyPDFLoader(pdf_path)\n",
        "    pages = []\n",
        "    # Use alazy_load for efficient loading of large documents\n",
        "    async for page in loader.alazy_load():\n",
        "        pages.append(page)\n",
        "    all_pages.extend(pages)\n",
        "\n",
        "total_characters = sum(len(page.page_content) for page in all_pages)\n",
        "print(f\"Total characters: {total_characters} \\nTotal pages: {len(all_pages)}\")"
      ],
      "metadata": {
        "colab": {
          "base_uri": "https://localhost:8080/"
        },
        "id": "QAq-vJQUC2P2",
        "outputId": "b0d6d3f4-eb8d-415a-945f-3aac69b3ab77"
      },
      "execution_count": 10,
      "outputs": [
        {
          "output_type": "stream",
          "name": "stdout",
          "text": [
            "Total characters: 59975 \n",
            "Total pages: 24\n"
          ]
        }
      ]
    },
    {
      "cell_type": "code",
      "source": [
        "print(f\"{all_pages[0].metadata}\\n\")\n",
        "print(all_pages[1].page_content)"
      ],
      "metadata": {
        "colab": {
          "base_uri": "https://localhost:8080/"
        },
        "id": "iVwEt8nVDrxh",
        "outputId": "36b03299-b13a-4681-8f67-878109b9295e"
      },
      "execution_count": 11,
      "outputs": [
        {
          "output_type": "stream",
          "name": "stdout",
          "text": [
            "{'producer': 'cairo 1.18.0 (https://cairographics.org)', 'creator': 'Mozilla Firefox 143.0.4', 'creationdate': '2025-10-09T13:54:38+05:30', 'source': '/content/Wells Fargo Active Cash Credit Card Credit Terms and Conditions.pdf', 'total_pages': 15, 'page': 0, 'page_label': '1'}\n",
            "\n",
            "ATMs/Locations\n",
            "Customer Service and FAQs\n",
            "Español\n",
            "Wells Fargo Active Cash  Credit Card Terms and Conditions\n",
            "Wells Fargo Active Cash Visa  Card Terms and Conditions\n",
            "Thank you for your interest in opening a Wells Fargo Active Cash Account.\n",
            "You may not be eligible for introductory annual percentage rates, fees and/or rewards bonus o�ers if you\n",
            "have the Wells Fargo Active Cash Visa or opened one within the last 48 months from the date of this application -\n",
            "even if that account is closed and has a $0 balance.\n",
            "IMPORTANT DISCLOSURES\n",
            "Interest Rates and Interest Charges\n",
            "Annual Percentage Rate (APR)\n",
            "for Purchases\n",
            " 0% introductory APR for 12 months from date of account opening.\n",
            "After that, your APR will be 18.99%, 23.99%, or 28.99%,\n",
            "based on your creditworthiness. This APR will vary with the market based\n",
            "on the U.S. Prime Rate.\n",
            "Annual Percentage Rate (APR)\n",
            "for Balance Transfers\n",
            " 0% introductory APR for 12 months from date of account opening.\n",
            "After that, your APR will be 18.99%, 23.99%, or 28.99%, based on your\n",
            "creditworthiness. This APR will vary with the market based on the U.S.\n",
            "Prime Rate. A balance transfer request must be made within 120 days\n",
            "from account opening to qualify for the introductory APR. Balance\n",
            "Transfers are subject to eligibility.\n",
            "APR for Cash Advances and\n",
            "Overdraft Protection Advances\n",
            "29.99%\n",
            "This APR will vary with the market based on the U.S. Prime Rate.\n",
            "How to Avoid Paying Interest\n",
            "on Purchases\n",
            "Your due date is at least 25 days after the close of each billing period. We\n",
            "will not charge you interest on purchases if you pay your entire balance by\n",
            "the due date each month.\n",
            "Minimum Interest ChargeIf you are charged interest, the charge will be no less than $1.00.\n",
            "For Credit Card Tips from the\n",
            "Consumer Financial Protection\n",
            "Bureau\n",
            "To learn more about factors to consider when applying for or using a credit\n",
            "card, visit the website of the Consumer Financial Protection Bureau at https://\n",
            "www.consumerfinance.gov/learnmore.*\n",
            "℠\n",
            "®\n",
            "®\n",
            "Wells Fargo Active Cash Credit Card Credit Terms and Conditions https://www.wellsfargo.com/credit-cards/active-cash/terms/?FPID=012...\n",
            "2 of 15 09-10-2025, 01:54 pm\n"
          ]
        }
      ]
    },
    {
      "cell_type": "markdown",
      "source": [
        "## Splitting documents"
      ],
      "metadata": {
        "id": "vTybx1E-K9hG"
      }
    },
    {
      "cell_type": "code",
      "source": [
        "from langchain_text_splitters import RecursiveCharacterTextSplitter\n",
        "\n",
        "text_splitter = RecursiveCharacterTextSplitter(\n",
        "    chunk_size=1000,  # chunk size (characters)\n",
        "    chunk_overlap=200,  # chunk overlap (characters)\n",
        "    add_start_index=True,  # track index in original document\n",
        ")\n",
        "all_splits = text_splitter.split_documents(all_pages)\n",
        "\n",
        "print(f\"Split blog post into {len(all_splits)} sub-documents.\")"
      ],
      "metadata": {
        "colab": {
          "base_uri": "https://localhost:8080/"
        },
        "id": "t9xBgzv0LAZj",
        "outputId": "973b7925-5e4a-4b96-845a-dc30cb8ed159"
      },
      "execution_count": 12,
      "outputs": [
        {
          "output_type": "stream",
          "name": "stdout",
          "text": [
            "Split blog post into 81 sub-documents.\n"
          ]
        }
      ]
    },
    {
      "cell_type": "code",
      "source": [
        "all_splits[1].page_content"
      ],
      "metadata": {
        "colab": {
          "base_uri": "https://localhost:8080/",
          "height": 87
        },
        "id": "KTamlCVYMUWT",
        "outputId": "6549221e-1d41-4350-c29b-ac7dab9358c2"
      },
      "execution_count": 13,
      "outputs": [
        {
          "output_type": "execute_result",
          "data": {
            "text/plain": [
              "'ATMs/Locations\\nCustomer Service and FAQs\\nEspañol\\nWells Fargo Active Cash  Credit Card Terms and Conditions\\nWells Fargo Active Cash Visa  Card Terms and Conditions\\nThank you for your interest in opening a Wells Fargo Active Cash Account.\\nYou may not be eligible for introductory annual percentage rates, fees and/or rewards bonus o�ers if you\\nhave the Wells Fargo Active Cash Visa or opened one within the last 48 months from the date of this application -\\neven if that account is closed and has a $0 balance.\\nIMPORTANT DISCLOSURES\\nInterest Rates and Interest Charges\\nAnnual Percentage Rate (APR)\\nfor Purchases\\n\\xa00% introductory APR for 12 months from date of account opening.\\nAfter that, your APR will be 18.99%, 23.99%, or 28.99%,\\nbased on your creditworthiness. This APR will vary with the market based\\non the U.S. Prime Rate.\\nAnnual Percentage Rate (APR)\\nfor Balance Transfers\\n\\xa00% introductory APR for 12 months from date of account opening.'"
            ],
            "application/vnd.google.colaboratory.intrinsic+json": {
              "type": "string"
            }
          },
          "metadata": {},
          "execution_count": 13
        }
      ]
    },
    {
      "cell_type": "markdown",
      "source": [
        "## Embeddinbg the documents and Storing documents"
      ],
      "metadata": {
        "id": "17VWQR5lMnen"
      }
    },
    {
      "cell_type": "markdown",
      "source": [
        "Now we need to index our 81 text chunks so that we can search over them at runtime.\n",
        "To search the content of the document semantically, we will embed the contents of each document split and insert these embeddings into a vector store. Given an input query, we can then use vector search to retrieve relevant documents."
      ],
      "metadata": {
        "id": "7QMpLe2HMvk1"
      }
    },
    {
      "cell_type": "code",
      "source": [
        "document_ids = vector_store.add_documents(documents=all_splits)\n",
        "\n",
        "print(\"index IDs: \",document_ids[:3])"
      ],
      "metadata": {
        "colab": {
          "base_uri": "https://localhost:8080/"
        },
        "id": "Sx_84A6wMpBD",
        "outputId": "dc4588fe-4b4f-4159-b627-48994504e105"
      },
      "execution_count": 14,
      "outputs": [
        {
          "output_type": "stream",
          "name": "stdout",
          "text": [
            "index IDs:  ['115382dc-3c46-4e43-a4df-746c4e804fa1', 'de55426c-d448-44be-b090-dcd318079f66', 'e7dd8010-3336-4abc-baa0-b7f6677f64f1']\n"
          ]
        }
      ]
    },
    {
      "cell_type": "code",
      "source": [
        "# document_ids_HNSW = vector_store_hnsw.add_documents(documents=all_splits)\n",
        "# print(\"index IDs: \",document_ids_HNSW[:3])"
      ],
      "metadata": {
        "id": "DHlptVWPPpqV"
      },
      "execution_count": 15,
      "outputs": []
    },
    {
      "cell_type": "code",
      "source": [],
      "metadata": {
        "id": "5A2f39_qyWZz"
      },
      "execution_count": 15,
      "outputs": []
    },
    {
      "cell_type": "markdown",
      "source": [
        "# Retrieval"
      ],
      "metadata": {
        "id": "q4Ykd5eFNZDs"
      }
    },
    {
      "cell_type": "code",
      "source": [
        "question = \"what are the Annual Percentage Rate (APR) for Purchases on Active cash card of Wells Fargo?\""
      ],
      "metadata": {
        "id": "gAjdb2ABNa4_"
      },
      "execution_count": 16,
      "outputs": []
    },
    {
      "cell_type": "code",
      "source": [
        "retrieved_docs = vector_store.similarity_search(question)\n",
        "# retrieved_docs = vector_store_hnsw.similarity_search(question)"
      ],
      "metadata": {
        "id": "des-ygqZO1yl"
      },
      "execution_count": 17,
      "outputs": []
    },
    {
      "cell_type": "code",
      "source": [
        "print(len(retrieved_docs))\n",
        "# for i in retrieved_docs:\n",
        "#   print(i.page_content)\n",
        "docs_content = \"\\n\\n\".join(doc.page_content for doc in retrieved_docs)\n",
        "docs_content"
      ],
      "metadata": {
        "colab": {
          "base_uri": "https://localhost:8080/",
          "height": 105
        },
        "id": "LHMmRlgXFZhL",
        "outputId": "e74d5151-2f5a-486e-85f4-9fa338a15d0a"
      },
      "execution_count": 18,
      "outputs": [
        {
          "output_type": "stream",
          "name": "stdout",
          "text": [
            "4\n"
          ]
        },
        {
          "output_type": "execute_result",
          "data": {
            "text/plain": [
              "'ATMs/Locations\\nCustomer Service and FAQs\\nEspañol\\nWells Fargo Active Cash  Credit Card Terms and Conditions\\nWells Fargo Active Cash Visa  Card Terms and Conditions\\nThank you for your interest in opening a Wells Fargo Active Cash Account.\\nYou may not be eligible for introductory annual percentage rates, fees and/or rewards bonus o�ers if you\\nhave the Wells Fargo Active Cash Visa or opened one within the last 48 months from the date of this application -\\neven if that account is closed and has a $0 balance.\\nIMPORTANT DISCLOSURES\\nInterest Rates and Interest Charges\\nAnnual Percentage Rate (APR)\\nfor Purchases\\n\\xa00% introductory APR for 12 months from date of account opening.\\nAfter that, your APR will be 18.99%, 23.99%, or 28.99%,\\nbased on your creditworthiness. This APR will vary with the market based\\non the U.S. Prime Rate.\\nAnnual Percentage Rate (APR)\\nfor Balance Transfers\\n\\xa00% introductory APR for 12 months from date of account opening.\\n\\nthree business days prior to your billing statement closing date. If the U.S. Prime Rate is not published or is\\notherwise unavailable, whether temporarily or permanently, we will select a substitute index that we believe, in\\nour sole discretion, to be similar to the U.S. Prime Rate. The U.S. Prime Rate is 7.25 percentage points as of\\n10/16/2025.\\nThe \"Margin\" for purchases and balance transfers will be 12.99 to 20.99 percentage points, based on your\\ncreditworthiness. The Maximum APR is 29.99%.\\nThe \"Margin\" for cash advances will be 20.74 percentage points. The Maximum APR is 29.99%.\\nWells Fargo reserves the right to change terms, rates (APRs) and fees, at its discretion in accordance with the\\nConsumer Credit Card Customer Agreement and Disclosure Statement (\"Agreement\") for your account and\\napplicable law. \\nYou may not qualify for the lowest APRs disclosed above. The APRs applicable to your account will be determined\\n\\n9. How do we calculate your variable APRs?\\nA variable APR is an interest rate that varies with the market based on the U.S. Prime Rate. To calculate your\\nvariable APR for each billing period, we use the U.S. Prime Rate and add a margin.\\n®\\n®\\nWells Fargo Active Cash Credit Card Credit Terms and Conditions https://www.wellsfargo.com/credit-cards/active-cash/terms/?FPID=012...\\n6 of 15 09-10-2025, 01:54 pm\\n\\nMaximum APR is 29.99%.\\nWe reserve the right to change terms, APRs, and fees at our discretion by following your Agreement and as\\nallowed by applicable law.\\nPlease note: You may not qualify for the lowest APR described. We review your credit report, information\\nprovided in your application, and other available relevant information to determine your APRs.\\n10. How do we apply your payments?\\nMinimum Payment\\nGenerally, we process your minimum payment in the following order:\\na. Lower APR balances (such as purchases)\\nb. Higher APR balances (such as cash advances)\\nAmounts in Excess of the Minimum Payment\\nIf you pay more than your required minimum payment, generally we apply the excess first to the higher APR\\nbalances and then to lower ones.\\n11. How does Overdraft Protection work?\\nYou can choose whether to link your Account to your Wells Fargo checking account for Overdraft Protection.\\nTo enroll, visit us online at: www.wellsfargo.com/credit-cards/features/overdraft-protection/.'"
            ],
            "application/vnd.google.colaboratory.intrinsic+json": {
              "type": "string"
            }
          },
          "metadata": {},
          "execution_count": 18
        }
      ]
    },
    {
      "cell_type": "markdown",
      "source": [
        "# Augmentation"
      ],
      "metadata": {
        "id": "03C8UAT8Fnqm"
      }
    },
    {
      "cell_type": "code",
      "source": [
        "from langchain import hub\n",
        "\n",
        "prompt = hub.pull(\"rlm/rag-prompt\")\n",
        "\n",
        "messages = prompt.invoke(\n",
        "    {\"context\": docs_content, \"question\": question}\n",
        ").to_messages()\n",
        "\n",
        "print(messages[0].content)"
      ],
      "metadata": {
        "colab": {
          "base_uri": "https://localhost:8080/"
        },
        "id": "_kW_suiEPHMw",
        "outputId": "3636ab81-b822-45c1-b35a-197059355ace"
      },
      "execution_count": 19,
      "outputs": [
        {
          "output_type": "stream",
          "name": "stdout",
          "text": [
            "You are an assistant for question-answering tasks. Use the following pieces of retrieved context to answer the question. If you don't know the answer, just say that you don't know. Use three sentences maximum and keep the answer concise.\n",
            "Question: what are the Annual Percentage Rate (APR) for Purchases on Active cash card of Wells Fargo? \n",
            "Context: ATMs/Locations\n",
            "Customer Service and FAQs\n",
            "Español\n",
            "Wells Fargo Active Cash  Credit Card Terms and Conditions\n",
            "Wells Fargo Active Cash Visa  Card Terms and Conditions\n",
            "Thank you for your interest in opening a Wells Fargo Active Cash Account.\n",
            "You may not be eligible for introductory annual percentage rates, fees and/or rewards bonus o�ers if you\n",
            "have the Wells Fargo Active Cash Visa or opened one within the last 48 months from the date of this application -\n",
            "even if that account is closed and has a $0 balance.\n",
            "IMPORTANT DISCLOSURES\n",
            "Interest Rates and Interest Charges\n",
            "Annual Percentage Rate (APR)\n",
            "for Purchases\n",
            " 0% introductory APR for 12 months from date of account opening.\n",
            "After that, your APR will be 18.99%, 23.99%, or 28.99%,\n",
            "based on your creditworthiness. This APR will vary with the market based\n",
            "on the U.S. Prime Rate.\n",
            "Annual Percentage Rate (APR)\n",
            "for Balance Transfers\n",
            " 0% introductory APR for 12 months from date of account opening.\n",
            "\n",
            "three business days prior to your billing statement closing date. If the U.S. Prime Rate is not published or is\n",
            "otherwise unavailable, whether temporarily or permanently, we will select a substitute index that we believe, in\n",
            "our sole discretion, to be similar to the U.S. Prime Rate. The U.S. Prime Rate is 7.25 percentage points as of\n",
            "10/16/2025.\n",
            "The \"Margin\" for purchases and balance transfers will be 12.99 to 20.99 percentage points, based on your\n",
            "creditworthiness. The Maximum APR is 29.99%.\n",
            "The \"Margin\" for cash advances will be 20.74 percentage points. The Maximum APR is 29.99%.\n",
            "Wells Fargo reserves the right to change terms, rates (APRs) and fees, at its discretion in accordance with the\n",
            "Consumer Credit Card Customer Agreement and Disclosure Statement (\"Agreement\") for your account and\n",
            "applicable law. \n",
            "You may not qualify for the lowest APRs disclosed above. The APRs applicable to your account will be determined\n",
            "\n",
            "9. How do we calculate your variable APRs?\n",
            "A variable APR is an interest rate that varies with the market based on the U.S. Prime Rate. To calculate your\n",
            "variable APR for each billing period, we use the U.S. Prime Rate and add a margin.\n",
            "®\n",
            "®\n",
            "Wells Fargo Active Cash Credit Card Credit Terms and Conditions https://www.wellsfargo.com/credit-cards/active-cash/terms/?FPID=012...\n",
            "6 of 15 09-10-2025, 01:54 pm\n",
            "\n",
            "Maximum APR is 29.99%.\n",
            "We reserve the right to change terms, APRs, and fees at our discretion by following your Agreement and as\n",
            "allowed by applicable law.\n",
            "Please note: You may not qualify for the lowest APR described. We review your credit report, information\n",
            "provided in your application, and other available relevant information to determine your APRs.\n",
            "10. How do we apply your payments?\n",
            "Minimum Payment\n",
            "Generally, we process your minimum payment in the following order:\n",
            "a. Lower APR balances (such as purchases)\n",
            "b. Higher APR balances (such as cash advances)\n",
            "Amounts in Excess of the Minimum Payment\n",
            "If you pay more than your required minimum payment, generally we apply the excess first to the higher APR\n",
            "balances and then to lower ones.\n",
            "11. How does Overdraft Protection work?\n",
            "You can choose whether to link your Account to your Wells Fargo checking account for Overdraft Protection.\n",
            "To enroll, visit us online at: www.wellsfargo.com/credit-cards/features/overdraft-protection/. \n",
            "Answer:\n"
          ]
        }
      ]
    },
    {
      "cell_type": "markdown",
      "source": [
        "# Generation"
      ],
      "metadata": {
        "id": "hV41-T90QEbl"
      }
    },
    {
      "cell_type": "code",
      "source": [
        "question = \"what are the Annual Percentage Rate (APR) for Purchases on Active cash card?\""
      ],
      "metadata": {
        "id": "GprAWz0GQcLV"
      },
      "execution_count": 20,
      "outputs": []
    },
    {
      "cell_type": "code",
      "source": [
        "answer = llm.invoke(question)"
      ],
      "metadata": {
        "id": "bTlwiQxoQbpc"
      },
      "execution_count": 21,
      "outputs": []
    },
    {
      "cell_type": "code",
      "source": [
        "from IPython.display import Markdown, display\n",
        "\n",
        "display(Markdown(answer.content))"
      ],
      "metadata": {
        "colab": {
          "base_uri": "https://localhost:8080/",
          "height": 227
        },
        "id": "fzhMc3d7SByR",
        "outputId": "9c1f16c8-af0f-4f16-f105-7599b53b264b"
      },
      "execution_count": 22,
      "outputs": [
        {
          "output_type": "display_data",
          "data": {
            "text/plain": [
              "<IPython.core.display.Markdown object>"
            ],
            "text/markdown": "The Annual Percentage Rate (APR) for Purchases on the Wells Fargo Active Cash® Card is typically a **variable rate** that depends on your creditworthiness.\n\nAs of my last update, the variable APR for purchases on the Wells Fargo Active Cash card generally ranges from approximately **19.24% to 29.24%**.\n\n**Important Considerations:**\n\n*   **Variable Rate:** This means the APR can change with the market Prime Rate.\n*   **Creditworthiness:** Your specific APR within that range will be determined by Wells Fargo based on your credit history when you apply.\n*   **Introductory APR:** The Active Cash card often features an introductory 0% APR on purchases for a certain period (e.g., 15 months from account opening). After this introductory period, the standard variable APR applies to any remaining balance.\n*   **Other APRs:** There are also separate APRs for balance transfers and cash advances, which may differ from the purchase APR.\n\n**Always check the most current and official terms and conditions on the Wells Fargo website or in your cardholder agreement for the most accurate and up-to-date information.**"
          },
          "metadata": {}
        }
      ]
    },
    {
      "cell_type": "code",
      "source": [
        "answer2 = llm.invoke(messages)"
      ],
      "metadata": {
        "id": "nEXMNxWzO7bH"
      },
      "execution_count": 23,
      "outputs": []
    },
    {
      "cell_type": "code",
      "source": [
        "from IPython.display import Markdown, display\n",
        "\n",
        "display(Markdown(answer2.content))"
      ],
      "metadata": {
        "colab": {
          "base_uri": "https://localhost:8080/",
          "height": 64
        },
        "id": "F1YF91k6QV4z",
        "outputId": "d6ab7af7-958f-45d9-fadc-24bbab8cd56e"
      },
      "execution_count": 24,
      "outputs": [
        {
          "output_type": "display_data",
          "data": {
            "text/plain": [
              "<IPython.core.display.Markdown object>"
            ],
            "text/markdown": "The Wells Fargo Active Cash card offers a 0% introductory APR for purchases for 12 months from the account opening date. After this period, the APR will be 18.99%, 23.99%, or 28.99%, based on creditworthiness and will vary with the market based on the U.S. Prime Rate. The maximum APR for purchases is 29.99%."
          },
          "metadata": {}
        }
      ]
    },
    {
      "cell_type": "code",
      "source": [
        "from langchain import hub\n",
        "\n",
        "def retrieve_and_augment(query, vector_store):\n",
        "  \"\"\"\n",
        "  Retrieves similar context from the vector store and augments with the RAG prompt.\n",
        "\n",
        "  Args:\n",
        "    query: The user's query string.\n",
        "    vector_store: The FAISS vector store object.\n",
        "\n",
        "  Returns:\n",
        "    A list of messages formatted with the RAG prompt and retrieved context.\n",
        "  \"\"\"\n",
        "  retrieved_docs = vector_store.similarity_search(query)\n",
        "  docs_content = \"\\n\\n\".join(doc.page_content for doc in retrieved_docs)\n",
        "\n",
        "  prompt = hub.pull(\"rlm/rag-prompt\")\n",
        "\n",
        "  messages = prompt.invoke(\n",
        "      {\"context\": docs_content, \"question\": query}\n",
        "  ).to_messages()\n",
        "\n",
        "  return messages"
      ],
      "metadata": {
        "id": "vCxlZ6IhGHVM"
      },
      "execution_count": 25,
      "outputs": []
    },
    {
      "cell_type": "code",
      "source": [
        "question2 = \"can you compare both active cash vard and blit world elite card on APR? generate a output table to show the comparision\"\n",
        "messages2 = retrieve_and_augment(question2, vector_store)"
      ],
      "metadata": {
        "id": "pJmYC7CxGc2N"
      },
      "execution_count": 37,
      "outputs": []
    },
    {
      "cell_type": "code",
      "source": [
        "messages2"
      ],
      "metadata": {
        "colab": {
          "base_uri": "https://localhost:8080/"
        },
        "id": "PX8Vz59xGt-j",
        "outputId": "73b200e3-cab1-4fba-ef38-eb4411d32c28"
      },
      "execution_count": 38,
      "outputs": [
        {
          "output_type": "execute_result",
          "data": {
            "text/plain": [
              "[HumanMessage(content=\"You are an assistant for question-answering tasks. Use the following pieces of retrieved context to answer the question. If you don't know the answer, just say that you don't know. Use three sentences maximum and keep the answer concise.\\nQuestion: can you compare both active cash vard and blit world elite card on APR? generate a output table to show the comparision \\nContext: Customer Service and FAQs\\nEspañol\\nBilt World Elite Mastercard Credit Card Terms and Conditions\\nBilt World Elite Mastercard  Credit Card Terms and Conditions\\nIssued and administered by Wells Fargo Bank, N.A., pursuant to a license from Mastercard International.\\nIMPORTANT DISCLOSURES\\n  Interest Rates and Interest Charges\\nAnnual Percentage Rate (APR) for\\nPurchases\\n20.24%, 23.24%, or 28.24%, based on your creditworthiness.\\nThis APR will vary with the market based on the U.S. Prime Rate.\\nAnnual Percentage Rate (APR) for\\nBalance Transfers\\n20.24%, 23.24%, or 28.24%, based on your creditworthiness. Balance\\nTransfers are subject to eligibility.\\nThis APR will vary with the market based on the U.S. Prime Rate.\\nAPR for Cash Advances\\n27.99%\\nThis APR will vary with the market based on the U.S. Prime Rate.\\nHow to Avoid Paying Interest on\\nPurchases\\nYour due date is at least 25 days after the close of each billing period. We\\nwill not charge you interest on purchases if you pay your entire balance by\\n\\non the U.S. Prime Rate.\\nAnnual Percentage Rate (APR)\\nfor Balance Transfers\\n\\xa00% introductory APR for 12 months from date of account opening.\\nAfter that, your APR will be 18.99%, 23.99%, or 28.99%, based on your\\ncreditworthiness. This APR will vary with the market based on the U.S.\\nPrime Rate. A balance transfer request must be made within 120 days\\nfrom account opening to qualify for the introductory APR. Balance\\nTransfers are subject to eligibility.\\nAPR for Cash Advances and\\nOverdraft Protection Advances\\n29.99%\\nThis APR will vary with the market based on the U.S. Prime Rate.\\nHow to Avoid Paying Interest\\non Purchases\\nYour due date is at least 25 days after the close of each billing period. We\\nwill not charge you interest on purchases if you pay your entire balance by\\nthe due date each month.\\nMinimum Interest ChargeIf you are charged interest, the charge will be no less than $1.00.\\nFor Credit Card Tips from the\\nConsumer Financial Protection\\nBureau\\n\\napplicable law. \\nYou may not qualify for the lowest APRs disclosed above. The APRs applicable to your account will be determined\\nby our review of your credit report, information you provide on your application, and other relevant information\\navailable to us.\\nApplication of payments\\nGenerally, we will apply your minimum payment first to lower APR balances (such as Purchases) before balances\\nwith higher APRs (such as Cash Advances). Payments made in excess of the minimum payment will generally be\\napplied to balances with higher APRs first before balances with lower ones.\\nImportant information about procedures for opening a new account\\nTo help the government fight the funding of terrorism and money laundering activities, U.S. Federal law requires\\nfinancial institutions to obtain, verify, and record information that identifies each person (individual or business) who\\nopens an account. What this means for you: when you open an account, we will ask for your name, address, date of\\n\\nHow We Determine the U.S. Prime Rate\\nEach billing period, we use the U.S. Prime Rate that The Wall Street Journal publishes in its Money Rates\\nsection three business days before your billing statement’s closing date. When more than one U.S. Prime Rate\\nexists, we use an average. If the U.S. Prime Rate is not published or available (temporarily or permanently), we\\nuse a substitute index that we believe is similar to the U.S. Prime Rate. We do so at our sole discretion. As of\\n10/09/2025, the U.S. Prime Rate is 7.25%.\\nHow We Calculate Your Variable APR\\nWe use the following margins:\\n• For purchases and balance transfers: We add either 11.74%, 16.74%, or 21.74% to the U.S. Prime Rate.\\nYour creditworthiness determines the percentage we use. The Maximum APR is 29.99%.\\n• For cash advances and overdraft protection advances: We add 22.74% to the U.S. Prime Rate. The\\nMaximum APR is 29.99%.\\nWe reserve the right to change terms, APRs, and fees at our discretion by following your Agreement and as \\nAnswer:\", additional_kwargs={}, response_metadata={})]"
            ]
          },
          "metadata": {},
          "execution_count": 38
        }
      ]
    },
    {
      "cell_type": "code",
      "source": [
        "answer3 = llm.invoke(messages2)"
      ],
      "metadata": {
        "id": "lt56JzYNGzLt"
      },
      "execution_count": 40,
      "outputs": []
    },
    {
      "cell_type": "code",
      "source": [
        "display(Markdown(answer3.content))"
      ],
      "metadata": {
        "colab": {
          "base_uri": "https://localhost:8080/",
          "height": 220
        },
        "id": "aXc9F28nG4Dk",
        "outputId": "1a0c0771-822f-4a6a-8be7-ed03a10a979c"
      },
      "execution_count": 41,
      "outputs": [
        {
          "output_type": "display_data",
          "data": {
            "text/plain": [
              "<IPython.core.display.Markdown object>"
            ],
            "text/markdown": "Here's a comparison of the APRs for the Bilt World Elite Mastercard and the Active Cash Card:\n\n| APR Type          | Bilt World Elite Mastercard                 | Active Cash Card                                          |\n| :---------------- | :------------------------------------------ | :-------------------------------------------------------- |\n| **Purchases**     | 20.24%, 23.24%, or 28.24%                   | 18.99%, 23.99%, or 28.99%                                 |\n| **Balance Transfers** | 20.24%, 23.24%, or 28.24%                   | 0% intro for 12 months, then 18.99%, 23.99%, or 28.99% |\n| **Cash Advances** | 27.99%                                      | 29.99%                                                    |\n\nThe Active Cash Card offers a 0% introductory APR for 12 months on balance transfers, after which the rate adjusts to 18.99%, 23.99%, or 28.99%. All APRs for both cards are variable and based on creditworthiness and the U.S. Prime Rate."
          },
          "metadata": {}
        }
      ]
    },
    {
      "cell_type": "code",
      "source": [],
      "metadata": {
        "id": "5O0JkoAxIPvz"
      },
      "execution_count": null,
      "outputs": []
    }
  ]
}